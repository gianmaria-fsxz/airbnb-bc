{
 "cells": [
  {
   "cell_type": "code",
   "execution_count": 1,
   "metadata": {},
   "outputs": [],
   "source": [
    "from typing import Optional\n",
    "import re\n",
    "import pandas as pd"
   ]
  },
  {
   "cell_type": "code",
   "execution_count": 2,
   "metadata": {},
   "outputs": [],
   "source": [
    "pd.options.display.max_columns = 30\n",
    "pd.options.display.max_rows = 50"
   ]
  },
  {
   "cell_type": "code",
   "execution_count": 3,
   "metadata": {},
   "outputs": [],
   "source": [
    "def read_and_rename(path: str) -> Optional[pd.DataFrame]:\n",
    "    try:\n",
    "        df = pd.read_csv(path)\n",
    "    except(FileNotFoundError):\n",
    "        print(\"File does not exists!\")\n",
    "        return None\n",
    "    \n",
    "    #basic columns renaming\n",
    "    rename_mapper = {k:re.sub(\"[^A-Z|_]\", \"\", k.lower().replace(\" \", \"_\") ,0,re.IGNORECASE) for k in df.columns}\n",
    "    return df.rename(columns=rename_mapper)\n",
    "    \n",
    "    "
   ]
  },
  {
   "cell_type": "markdown",
   "metadata": {},
   "source": [
    "### create target"
   ]
  },
  {
   "cell_type": "code",
   "execution_count": 4,
   "metadata": {},
   "outputs": [],
   "source": [
    "df = read_and_rename(\"BrightonPerformanceData.csv\")\n",
    "\n",
    "geo_columns = ['latitude', 'longitude', 'zipcode', 'city']\n",
    "constants = ['scraped_during_month', 'country_code', 'currency_native']\n",
    "not_useful = ['property_type', 'airbnb_host_id', 'last_seen']\n",
    "cols_to_drop = geo_columns + constants + not_useful\n",
    "df = df.drop(cols_to_drop, axis=1)\n"
   ]
  },
  {
   "cell_type": "code",
   "execution_count": 5,
   "metadata": {},
   "outputs": [],
   "source": [
    "\n",
    "df.sort_values(by=['airbnb_property_id', 'reporting_month'], inplace=True)\n",
    "\n",
    "# Shift the reporting_month column by one row for each airbnb_property_id\n",
    "df['next_reporting_month'] = df.groupby('airbnb_property_id')['reporting_month'].shift(-1)\n",
    "\n",
    "# Create a new column that is True if the next month's row exists for that airbnb_property_id\n",
    "df['target'] = ~df['next_reporting_month'].isnull()\n",
    "\n",
    "df  = df[df['reporting_month'] != '2023-10-01'].drop([\"reporting_month\",\"next_reporting_month\"], axis=1)\n"
   ]
  },
  {
   "cell_type": "code",
   "execution_count": 6,
   "metadata": {},
   "outputs": [
    {
     "data": {
      "text/plain": [
       "target\n",
       "True     20921\n",
       "False     3928\n",
       "Name: count, dtype: int64"
      ]
     },
     "execution_count": 6,
     "metadata": {},
     "output_type": "execute_result"
    }
   ],
   "source": [
    "df.target.value_counts()"
   ]
  },
  {
   "cell_type": "code",
   "execution_count": 7,
   "metadata": {},
   "outputs": [
    {
     "data": {
      "text/plain": [
       "(24849, 15)"
      ]
     },
     "execution_count": 7,
     "metadata": {},
     "output_type": "execute_result"
    }
   ],
   "source": [
    "df.shape"
   ]
  },
  {
   "cell_type": "code",
   "execution_count": 8,
   "metadata": {},
   "outputs": [],
   "source": [
    "data_df1 = df[df.columns[:5]]\n",
    "data_df2 = df[df.columns[5:10]]\n",
    "data_df3 = df[df.columns[10:14]]\n",
    "\n",
    "target_df = pd.DataFrame(data=df.target, columns=[\"target\"])\n",
    "\n",
    "# Creating timestamps for the data\n",
    "timestamps = pd.date_range(\n",
    "    end=pd.Timestamp.now(), \n",
    "    periods=len(df), \n",
    "    freq='D').to_frame(name=\"event_timestamp\", index=False)\n",
    "\n",
    "# Adding the timestamp column to each DataFrame\n",
    "data_df1 = pd.concat(objs=[data_df1, timestamps], axis=1)\n",
    "data_df2 = pd.concat(objs=[data_df2, timestamps], axis=1)\n",
    "data_df3 = pd.concat(objs=[data_df3, timestamps], axis=1)"
   ]
  },
  {
   "cell_type": "code",
   "execution_count": 9,
   "metadata": {},
   "outputs": [],
   "source": [
    "import os\n",
    "DATA_DIR =\"src/feast/airbnb/data\""
   ]
  },
  {
   "cell_type": "code",
   "execution_count": 10,
   "metadata": {},
   "outputs": [],
   "source": [
    "import pyarrow"
   ]
  },
  {
   "cell_type": "code",
   "execution_count": 16,
   "metadata": {},
   "outputs": [
    {
     "data": {
      "text/plain": [
       "Index(['blocked_days', 'available_days', 'occupancy_rate', 'reservation_days',\n",
       "       'adr_usd', 'event_timestamp'],\n",
       "      dtype='object')"
      ]
     },
     "execution_count": 16,
     "metadata": {},
     "output_type": "execute_result"
    }
   ],
   "source": [
    "data_df2.columns\n",
    "\n",
    "\n",
    "'blocked_days'\n",
    "'available_days'\n",
    "'occupancy_rate'\n",
    "'reservation_days'\n",
    "\n",
    "'adr_usd'\n",
    "'event_timestamp'"
   ]
  },
  {
   "cell_type": "code",
   "execution_count": 12,
   "metadata": {},
   "outputs": [],
   "source": [
    "data_df1.to_parquet(path=os.path.join(DATA_DIR, 'data_df1.parquet'), engine='pyarrow')\n",
    "data_df2.to_parquet(path=os.path.join(DATA_DIR, 'data_df2.parquet'))\n",
    "data_df3.to_parquet(path=os.path.join(DATA_DIR, 'data_df3.parquet'))\n",
    "target_df.to_parquet(path=os.path.join(DATA_DIR, 'target_df.parquet'))"
   ]
  },
  {
   "cell_type": "code",
   "execution_count": 15,
   "metadata": {},
   "outputs": [
    {
     "data": {
      "text/plain": [
       "<ValueType.STRING: 2>"
      ]
     },
     "execution_count": 15,
     "metadata": {},
     "output_type": "execute_result"
    }
   ],
   "source": [
    "from feast import ValueType\n",
    "ValueType.STRING"
   ]
  }
 ],
 "metadata": {
  "kernelspec": {
   "display_name": "weroad-env",
   "language": "python",
   "name": "python3"
  },
  "language_info": {
   "codemirror_mode": {
    "name": "ipython",
    "version": 3
   },
   "file_extension": ".py",
   "mimetype": "text/x-python",
   "name": "python",
   "nbconvert_exporter": "python",
   "pygments_lexer": "ipython3",
   "version": "3.10.12"
  }
 },
 "nbformat": 4,
 "nbformat_minor": 2
}

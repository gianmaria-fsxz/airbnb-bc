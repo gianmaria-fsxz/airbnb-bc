{
 "cells": [
  {
   "cell_type": "code",
   "execution_count": 4,
   "metadata": {},
   "outputs": [],
   "source": [
    "from sklearn.ensemble import RandomForestClassifier\n",
    "from sklearn.model_selection import GridSearchCV\n",
    "from sklearn.pipeline import Pipeline\n",
    "from sklearn.preprocessing import OrdinalEncoder\n",
    "\n",
    "def create_model():\n",
    "    class PreprocessDF():\n",
    "        def __init__(self):\n",
    "            \n",
    "            # ensure the order and needed columns\n",
    "            self.needed_columns = [\n",
    "        \"bedrooms\",\n",
    "        \"bathrooms\",\n",
    "        \"cleaning_fee\",\n",
    "        \"available_days\",\n",
    "        \"blocked_days\",\n",
    "        \"occupancy_rate\",\n",
    "        \"reservation_days\",\n",
    "        \"adr_usd\",\n",
    "        \"number_of_reservation\",\n",
    "        \"num_neighbours\",\n",
    "        \"dist_from_bc\",\n",
    "    ]\n",
    "    \n",
    "        def fit(self, df, y = None):\n",
    "            return self\n",
    "\n",
    "        def transform(self, input_df, y = None):\n",
    "            df = input_df.copy() # creating a copy to avoid changes to original dataset\n",
    "            # for column in self.encoders:\n",
    "            #     df[column] = self.encoders[column].transform(df[[column]])\n",
    "            return df[self.needed_columns].astype('float32')\n",
    "        \n",
    "    # it guarantees that model and preprocessing needed are always togheter\n",
    "    model = Pipeline(steps=[\n",
    "            ('preprocess', PreprocessDF()),\n",
    "            ('classifier', RandomForestClassifier())\n",
    "        ])\n",
    "    \n",
    "    search_params = {'classifier__criterion':['gini'], 'classifier__max_depth':[20, 30], 'classifier__n_estimators': [10, 80]}\n",
    "    # best model with f1, other metrics are only monitored\n",
    "    clf = GridSearchCV(model, search_params, scoring=['f1', 'accuracy', 'balanced_accuracy', 'precision', 'recall', 'roc_auc'], refit='f1', cv=3)\n",
    "    return clf"
   ]
  },
  {
   "cell_type": "code",
   "execution_count": 5,
   "metadata": {},
   "outputs": [],
   "source": [
    "import pandas as pd\n",
    "training_df = pd.read_parquet(\"/home/gianmaria/repos/airbnb-bc/src/feature_store/feature_repo/data/training_dataset.parquet\")\n",
    "clf = create_model()"
   ]
  },
  {
   "cell_type": "code",
   "execution_count": 6,
   "metadata": {},
   "outputs": [],
   "source": [
    "import warnings\n",
    "import tempfile\n",
    "import os\n",
    "import mlflow\n",
    "from sklearn.ensemble import RandomForestClassifier\n",
    "from datetime import datetime\n",
    "from sklearn.model_selection import GridSearchCV\n",
    "\n",
    "experiment_name = 'drivers'\n",
    "existing_exp = mlflow.get_experiment_by_name(experiment_name)\n",
    "if not existing_exp:\n",
    "    experiment_id = mlflow.create_experiment(experiment_name)\n",
    "else:\n",
    "    experiment_id = existing_exp.experiment_id\n",
    "\n",
    "timestamp = datetime.now().isoformat().split(\".\")[0].replace(\":\", \".\")\n",
    "with mlflow.start_run(experiment_id=experiment_id, run_name=timestamp) as run:\n",
    "    clf.fit(training_df, training_df['target'])\n",
    "    cv_results = clf.cv_results_\n",
    "    best_index = clf.best_index_\n",
    "    for score_name in [score for score in cv_results if \"mean_test\" in score]:\n",
    "        mlflow.log_metric(score_name, cv_results[score_name][best_index])\n",
    "        mlflow.log_metric(score_name.replace(\"mean\",\"std\"), cv_results[score_name.replace(\"mean\",\"std\")][best_index])\n",
    "\n",
    "    tempdir = tempfile.TemporaryDirectory().name\n",
    "    os.mkdir(tempdir)\n",
    "    filename = \"%s-%s-cv_results.csv\" % ('RandomForest', timestamp)\n",
    "    csv = os.path.join(tempdir, filename)\n",
    "    with warnings.catch_warnings():\n",
    "        warnings.simplefilter(\"ignore\")\n",
    "        pd.DataFrame(cv_results).to_csv(csv, index=False)\n",
    "    \n",
    "    mlflow.log_artifact(csv, \"cv_results\")"
   ]
  },
  {
   "cell_type": "code",
   "execution_count": 36,
   "metadata": {},
   "outputs": [],
   "source": [
    "import pandas as pd\n",
    "import mlflow\n",
    "from mlflow.entities import ViewType\n",
    "\n",
    "def get_best_model(experiment_name, metric = 'mean_test_f1'):\n",
    "    mlflow.set_tracking_uri(\"http://127.0.0.1:5000\")\n",
    "    df = mlflow.search_runs(experiment_names=[experiment_name], run_view_type=ViewType.ALL)\n",
    "    df = df.sort_values(by=[f'metrics.{metric}'], ascending=False)\n",
    "\n",
    "    for _, row in df.iterrows(): # there are a lot of anonymous experiment created by autologging (probably), i must investigate on this\n",
    "        try:\n",
    "            model = mlflow.sklearn.load_model(\"runs:/\" + row['run_id'] + \"/best_estimator\")\n",
    "            # if model is not None:\n",
    "            #     print(f\"loaded model = {row['run_id']}\")\n",
    "            #     break\n",
    "        except:\n",
    "            pass # not the best solution for sure..., TODO: rewrite this\n",
    "            print(\"cannot find the model\")\n",
    "\n",
    "    return df"
   ]
  },
  {
   "cell_type": "code",
   "execution_count": 37,
   "metadata": {},
   "outputs": [
    {
     "data": {
      "application/vnd.jupyter.widget-view+json": {
       "model_id": "32c7e1eb40034013a5a1ce7de9312260",
       "version_major": 2,
       "version_minor": 0
      },
      "text/plain": [
       "Downloading artifacts:   0%|          | 0/1 [00:00<?, ?it/s]"
      ]
     },
     "metadata": {},
     "output_type": "display_data"
    },
    {
     "name": "stdout",
     "output_type": "stream",
     "text": [
      "cannot find the model\n"
     ]
    },
    {
     "data": {
      "text/plain": [
       "Index(['run_id', 'experiment_id', 'status', 'artifact_uri', 'start_time',\n",
       "       'end_time', 'metrics.mean_test_accuracy', 'metrics.mean_test_roc_auc',\n",
       "       'metrics.std_test_recall', 'metrics.mean_test_f1',\n",
       "       'metrics.std_test_precision', 'metrics.mean_test_precision',\n",
       "       'metrics.mean_test_balanced_accuracy',\n",
       "       'metrics.std_test_balanced_accuracy', 'metrics.std_test_f1',\n",
       "       'metrics.mean_test_recall', 'metrics.std_test_accuracy',\n",
       "       'metrics.std_test_roc_auc', 'tags.mlflow.source.name',\n",
       "       'tags.mlflow.source.type', 'tags.mlflow.runName', 'tags.mlflow.user',\n",
       "       'tags.mlflow.source.git.commit'],\n",
       "      dtype='object')"
      ]
     },
     "execution_count": 37,
     "metadata": {},
     "output_type": "execute_result"
    }
   ],
   "source": [
    "import mlflow \n",
    "client = mlflow.tracking.MlflowClient()\n",
    "runs = client.search_runs(\"test1\", \"\", order_by=[\"metrics.mean_test_f1 DESC\"], max_results=1)\n",
    "best_run = runs[0]"
   ]
  },
  {
   "cell_type": "code",
   "execution_count": 33,
   "metadata": {},
   "outputs": [
    {
     "data": {
      "application/vnd.jupyter.widget-view+json": {
       "model_id": "aee360912ec44aefa320ead6d4d0b057",
       "version_major": 2,
       "version_minor": 0
      },
      "text/plain": [
       "Downloading artifacts:   0%|          | 0/1 [00:00<?, ?it/s]"
      ]
     },
     "metadata": {},
     "output_type": "display_data"
    },
    {
     "ename": "KeyboardInterrupt",
     "evalue": "",
     "output_type": "error",
     "traceback": [
      "\u001b[0;31m---------------------------------------------------------------------------\u001b[0m",
      "\u001b[0;31mKeyboardInterrupt\u001b[0m                         Traceback (most recent call last)",
      "Cell \u001b[0;32mIn[33], line 1\u001b[0m\n\u001b[0;32m----> 1\u001b[0m \u001b[43mmlflow\u001b[49m\u001b[38;5;241;43m.\u001b[39;49m\u001b[43msklearn\u001b[49m\u001b[38;5;241;43m.\u001b[39;49m\u001b[43mload_model\u001b[49m\u001b[43m(\u001b[49m\u001b[38;5;124;43m\"\u001b[39;49m\u001b[38;5;124;43mruns:/\u001b[39;49m\u001b[38;5;124;43m\"\u001b[39;49m\u001b[43m \u001b[49m\u001b[38;5;241;43m+\u001b[39;49m\u001b[43m \u001b[49m\u001b[38;5;124;43m'\u001b[39;49m\u001b[38;5;124;43m55e01656e01846dd8dff0a44dcbbfb95\u001b[39;49m\u001b[38;5;124;43m'\u001b[39;49m\u001b[43m \u001b[49m\u001b[38;5;241;43m+\u001b[39;49m\u001b[43m \u001b[49m\u001b[38;5;124;43m\"\u001b[39;49m\u001b[38;5;124;43m/best_estimator\u001b[39;49m\u001b[38;5;124;43m\"\u001b[39;49m\u001b[43m)\u001b[49m\n",
      "File \u001b[0;32m~/repos/airbnb-bc/bcenv/lib/python3.10/site-packages/mlflow/sklearn/__init__.py:626\u001b[0m, in \u001b[0;36mload_model\u001b[0;34m(model_uri, dst_path)\u001b[0m\n\u001b[1;32m    591\u001b[0m \u001b[38;5;28;01mdef\u001b[39;00m \u001b[38;5;21mload_model\u001b[39m(model_uri, dst_path\u001b[38;5;241m=\u001b[39m\u001b[38;5;28;01mNone\u001b[39;00m):\n\u001b[1;32m    592\u001b[0m \u001b[38;5;250m    \u001b[39m\u001b[38;5;124;03m\"\"\"\u001b[39;00m\n\u001b[1;32m    593\u001b[0m \u001b[38;5;124;03m    Load a scikit-learn model from a local file or a run.\u001b[39;00m\n\u001b[1;32m    594\u001b[0m \n\u001b[0;32m   (...)\u001b[0m\n\u001b[1;32m    624\u001b[0m \u001b[38;5;124;03m        predictions = sk_model.predict(pandas_df)\u001b[39;00m\n\u001b[1;32m    625\u001b[0m \u001b[38;5;124;03m    \"\"\"\u001b[39;00m\n\u001b[0;32m--> 626\u001b[0m     local_model_path \u001b[38;5;241m=\u001b[39m \u001b[43m_download_artifact_from_uri\u001b[49m\u001b[43m(\u001b[49m\u001b[43martifact_uri\u001b[49m\u001b[38;5;241;43m=\u001b[39;49m\u001b[43mmodel_uri\u001b[49m\u001b[43m,\u001b[49m\u001b[43m \u001b[49m\u001b[43moutput_path\u001b[49m\u001b[38;5;241;43m=\u001b[39;49m\u001b[43mdst_path\u001b[49m\u001b[43m)\u001b[49m\n\u001b[1;32m    627\u001b[0m     flavor_conf \u001b[38;5;241m=\u001b[39m _get_flavor_configuration(model_path\u001b[38;5;241m=\u001b[39mlocal_model_path, flavor_name\u001b[38;5;241m=\u001b[39mFLAVOR_NAME)\n\u001b[1;32m    628\u001b[0m     _add_code_from_conf_to_system_path(local_model_path, flavor_conf)\n",
      "File \u001b[0;32m~/repos/airbnb-bc/bcenv/lib/python3.10/site-packages/mlflow/tracking/artifact_utils.py:116\u001b[0m, in \u001b[0;36m_download_artifact_from_uri\u001b[0;34m(artifact_uri, output_path, lineage_header_info)\u001b[0m\n\u001b[1;32m    110\u001b[0m \u001b[38;5;28;01mif\u001b[39;00m \u001b[38;5;28misinstance\u001b[39m(repo, ModelsArtifactRepository):\n\u001b[1;32m    111\u001b[0m     \u001b[38;5;28;01mreturn\u001b[39;00m repo\u001b[38;5;241m.\u001b[39mdownload_artifacts(\n\u001b[1;32m    112\u001b[0m         artifact_path\u001b[38;5;241m=\u001b[39martifact_path,\n\u001b[1;32m    113\u001b[0m         dst_path\u001b[38;5;241m=\u001b[39moutput_path,\n\u001b[1;32m    114\u001b[0m         lineage_header_info\u001b[38;5;241m=\u001b[39mlineage_header_info,\n\u001b[1;32m    115\u001b[0m     )\n\u001b[0;32m--> 116\u001b[0m \u001b[38;5;28;01mreturn\u001b[39;00m \u001b[43mrepo\u001b[49m\u001b[38;5;241;43m.\u001b[39;49m\u001b[43mdownload_artifacts\u001b[49m\u001b[43m(\u001b[49m\u001b[43martifact_path\u001b[49m\u001b[38;5;241;43m=\u001b[39;49m\u001b[43martifact_path\u001b[49m\u001b[43m,\u001b[49m\u001b[43m \u001b[49m\u001b[43mdst_path\u001b[49m\u001b[38;5;241;43m=\u001b[39;49m\u001b[43moutput_path\u001b[49m\u001b[43m)\u001b[49m\n",
      "File \u001b[0;32m~/repos/airbnb-bc/bcenv/lib/python3.10/site-packages/mlflow/store/artifact/runs_artifact_repo.py:131\u001b[0m, in \u001b[0;36mRunsArtifactRepository.download_artifacts\u001b[0;34m(self, artifact_path, dst_path)\u001b[0m\n\u001b[1;32m    114\u001b[0m \u001b[38;5;28;01mdef\u001b[39;00m \u001b[38;5;21mdownload_artifacts\u001b[39m(\u001b[38;5;28mself\u001b[39m, artifact_path, dst_path\u001b[38;5;241m=\u001b[39m\u001b[38;5;28;01mNone\u001b[39;00m):\n\u001b[1;32m    115\u001b[0m \u001b[38;5;250m    \u001b[39m\u001b[38;5;124;03m\"\"\"\u001b[39;00m\n\u001b[1;32m    116\u001b[0m \u001b[38;5;124;03m    Download an artifact file or directory to a local directory if applicable, and return a\u001b[39;00m\n\u001b[1;32m    117\u001b[0m \u001b[38;5;124;03m    local path for it.\u001b[39;00m\n\u001b[0;32m   (...)\u001b[0m\n\u001b[1;32m    129\u001b[0m \u001b[38;5;124;03m        Absolute path of the local filesystem location containing the desired artifacts.\u001b[39;00m\n\u001b[1;32m    130\u001b[0m \u001b[38;5;124;03m    \"\"\"\u001b[39;00m\n\u001b[0;32m--> 131\u001b[0m     \u001b[38;5;28;01mreturn\u001b[39;00m \u001b[38;5;28;43mself\u001b[39;49m\u001b[38;5;241;43m.\u001b[39;49m\u001b[43mrepo\u001b[49m\u001b[38;5;241;43m.\u001b[39;49m\u001b[43mdownload_artifacts\u001b[49m\u001b[43m(\u001b[49m\u001b[43martifact_path\u001b[49m\u001b[43m,\u001b[49m\u001b[43m \u001b[49m\u001b[43mdst_path\u001b[49m\u001b[43m)\u001b[49m\n",
      "File \u001b[0;32m~/repos/airbnb-bc/bcenv/lib/python3.10/site-packages/mlflow/store/artifact/artifact_repo.py:261\u001b[0m, in \u001b[0;36mArtifactRepository.download_artifacts\u001b[0;34m(self, artifact_path, dst_path)\u001b[0m\n\u001b[1;32m    259\u001b[0m failed_downloads \u001b[38;5;241m=\u001b[39m {}\n\u001b[1;32m    260\u001b[0m \u001b[38;5;28;01mwith\u001b[39;00m ArtifactProgressBar\u001b[38;5;241m.\u001b[39mfiles(desc\u001b[38;5;241m=\u001b[39m\u001b[38;5;124m\"\u001b[39m\u001b[38;5;124mDownloading artifacts\u001b[39m\u001b[38;5;124m\"\u001b[39m, total\u001b[38;5;241m=\u001b[39m\u001b[38;5;28mlen\u001b[39m(futures)) \u001b[38;5;28;01mas\u001b[39;00m pbar:\n\u001b[0;32m--> 261\u001b[0m     \u001b[38;5;28;01mfor\u001b[39;00m f \u001b[38;5;129;01min\u001b[39;00m as_completed(futures):\n\u001b[1;32m    262\u001b[0m         \u001b[38;5;28;01mtry\u001b[39;00m:\n\u001b[1;32m    263\u001b[0m             f\u001b[38;5;241m.\u001b[39mresult()\n",
      "File \u001b[0;32m/usr/lib/python3.10/concurrent/futures/_base.py:245\u001b[0m, in \u001b[0;36mas_completed\u001b[0;34m(fs, timeout)\u001b[0m\n\u001b[1;32m    240\u001b[0m     \u001b[38;5;28;01mif\u001b[39;00m wait_timeout \u001b[38;5;241m<\u001b[39m \u001b[38;5;241m0\u001b[39m:\n\u001b[1;32m    241\u001b[0m         \u001b[38;5;28;01mraise\u001b[39;00m \u001b[38;5;167;01mTimeoutError\u001b[39;00m(\n\u001b[1;32m    242\u001b[0m                 \u001b[38;5;124m'\u001b[39m\u001b[38;5;132;01m%d\u001b[39;00m\u001b[38;5;124m (of \u001b[39m\u001b[38;5;132;01m%d\u001b[39;00m\u001b[38;5;124m) futures unfinished\u001b[39m\u001b[38;5;124m'\u001b[39m \u001b[38;5;241m%\u001b[39m (\n\u001b[1;32m    243\u001b[0m                 \u001b[38;5;28mlen\u001b[39m(pending), total_futures))\n\u001b[0;32m--> 245\u001b[0m \u001b[43mwaiter\u001b[49m\u001b[38;5;241;43m.\u001b[39;49m\u001b[43mevent\u001b[49m\u001b[38;5;241;43m.\u001b[39;49m\u001b[43mwait\u001b[49m\u001b[43m(\u001b[49m\u001b[43mwait_timeout\u001b[49m\u001b[43m)\u001b[49m\n\u001b[1;32m    247\u001b[0m \u001b[38;5;28;01mwith\u001b[39;00m waiter\u001b[38;5;241m.\u001b[39mlock:\n\u001b[1;32m    248\u001b[0m     finished \u001b[38;5;241m=\u001b[39m waiter\u001b[38;5;241m.\u001b[39mfinished_futures\n",
      "File \u001b[0;32m/usr/lib/python3.10/threading.py:607\u001b[0m, in \u001b[0;36mEvent.wait\u001b[0;34m(self, timeout)\u001b[0m\n\u001b[1;32m    605\u001b[0m signaled \u001b[38;5;241m=\u001b[39m \u001b[38;5;28mself\u001b[39m\u001b[38;5;241m.\u001b[39m_flag\n\u001b[1;32m    606\u001b[0m \u001b[38;5;28;01mif\u001b[39;00m \u001b[38;5;129;01mnot\u001b[39;00m signaled:\n\u001b[0;32m--> 607\u001b[0m     signaled \u001b[38;5;241m=\u001b[39m \u001b[38;5;28;43mself\u001b[39;49m\u001b[38;5;241;43m.\u001b[39;49m\u001b[43m_cond\u001b[49m\u001b[38;5;241;43m.\u001b[39;49m\u001b[43mwait\u001b[49m\u001b[43m(\u001b[49m\u001b[43mtimeout\u001b[49m\u001b[43m)\u001b[49m\n\u001b[1;32m    608\u001b[0m \u001b[38;5;28;01mreturn\u001b[39;00m signaled\n",
      "File \u001b[0;32m/usr/lib/python3.10/threading.py:320\u001b[0m, in \u001b[0;36mCondition.wait\u001b[0;34m(self, timeout)\u001b[0m\n\u001b[1;32m    318\u001b[0m \u001b[38;5;28;01mtry\u001b[39;00m:    \u001b[38;5;66;03m# restore state no matter what (e.g., KeyboardInterrupt)\u001b[39;00m\n\u001b[1;32m    319\u001b[0m     \u001b[38;5;28;01mif\u001b[39;00m timeout \u001b[38;5;129;01mis\u001b[39;00m \u001b[38;5;28;01mNone\u001b[39;00m:\n\u001b[0;32m--> 320\u001b[0m         \u001b[43mwaiter\u001b[49m\u001b[38;5;241;43m.\u001b[39;49m\u001b[43macquire\u001b[49m\u001b[43m(\u001b[49m\u001b[43m)\u001b[49m\n\u001b[1;32m    321\u001b[0m         gotit \u001b[38;5;241m=\u001b[39m \u001b[38;5;28;01mTrue\u001b[39;00m\n\u001b[1;32m    322\u001b[0m     \u001b[38;5;28;01melse\u001b[39;00m:\n",
      "\u001b[0;31mKeyboardInterrupt\u001b[0m: "
     ]
    }
   ],
   "source": [
    "mlflow.sklearn.load_model(\"runs:/\" + '55e01656e01846dd8dff0a44dcbbfb95' + \"/best_estimator\")\n",
    "\n",
    "\n",
    "import mlflow.pyfunc\n",
    "\n",
    "model_name = \"sk-learn-random-forest-clf-model\"\n",
    "model_version = 1\n",
    "\n",
    "model = mlflow.pyfunc.load_model(model_uri=f\"models:/{model_name}/{model_version}\")\n"
   ]
  },
  {
   "cell_type": "code",
   "execution_count": 32,
   "metadata": {},
   "outputs": [
    {
     "data": {
      "text/html": [
       "<div>\n",
       "<style scoped>\n",
       "    .dataframe tbody tr th:only-of-type {\n",
       "        vertical-align: middle;\n",
       "    }\n",
       "\n",
       "    .dataframe tbody tr th {\n",
       "        vertical-align: top;\n",
       "    }\n",
       "\n",
       "    .dataframe thead th {\n",
       "        text-align: right;\n",
       "    }\n",
       "</style>\n",
       "<table border=\"1\" class=\"dataframe\">\n",
       "  <thead>\n",
       "    <tr style=\"text-align: right;\">\n",
       "      <th></th>\n",
       "      <th>run_id</th>\n",
       "      <th>experiment_id</th>\n",
       "      <th>status</th>\n",
       "      <th>artifact_uri</th>\n",
       "      <th>start_time</th>\n",
       "      <th>end_time</th>\n",
       "      <th>metrics.mean_test_accuracy</th>\n",
       "      <th>metrics.mean_test_roc_auc</th>\n",
       "      <th>metrics.std_test_recall</th>\n",
       "      <th>metrics.mean_test_f1</th>\n",
       "      <th>...</th>\n",
       "      <th>metrics.std_test_balanced_accuracy</th>\n",
       "      <th>metrics.std_test_f1</th>\n",
       "      <th>metrics.mean_test_recall</th>\n",
       "      <th>metrics.std_test_accuracy</th>\n",
       "      <th>metrics.std_test_roc_auc</th>\n",
       "      <th>tags.mlflow.source.name</th>\n",
       "      <th>tags.mlflow.source.type</th>\n",
       "      <th>tags.mlflow.runName</th>\n",
       "      <th>tags.mlflow.user</th>\n",
       "      <th>tags.mlflow.source.git.commit</th>\n",
       "    </tr>\n",
       "  </thead>\n",
       "  <tbody>\n",
       "    <tr>\n",
       "      <th>0</th>\n",
       "      <td>55e01656e01846dd8dff0a44dcbbfb95</td>\n",
       "      <td>318192827015530035</td>\n",
       "      <td>FINISHED</td>\n",
       "      <td>mlflow-artifacts:/318192827015530035/55e01656e...</td>\n",
       "      <td>2024-05-24 12:16:53.940000+00:00</td>\n",
       "      <td>2024-05-24 12:16:58.058000+00:00</td>\n",
       "      <td>0.968307</td>\n",
       "      <td>0.849688</td>\n",
       "      <td>0.00373</td>\n",
       "      <td>0.983876</td>\n",
       "      <td>...</td>\n",
       "      <td>0.01606</td>\n",
       "      <td>0.001518</td>\n",
       "      <td>0.995582</td>\n",
       "      <td>0.002908</td>\n",
       "      <td>0.041247</td>\n",
       "      <td>/home/gianmaria/repos/airbnb-bc/src/train_mode...</td>\n",
       "      <td>LOCAL</td>\n",
       "      <td>2024-05-24T14.16.53</td>\n",
       "      <td>gianmaria</td>\n",
       "      <td>fc1138078a17591d349fc8ada54cf4401a16a8f3</td>\n",
       "    </tr>\n",
       "  </tbody>\n",
       "</table>\n",
       "<p>1 rows × 23 columns</p>\n",
       "</div>"
      ],
      "text/plain": [
       "                             run_id       experiment_id    status  \\\n",
       "0  55e01656e01846dd8dff0a44dcbbfb95  318192827015530035  FINISHED   \n",
       "\n",
       "                                        artifact_uri  \\\n",
       "0  mlflow-artifacts:/318192827015530035/55e01656e...   \n",
       "\n",
       "                        start_time                         end_time  \\\n",
       "0 2024-05-24 12:16:53.940000+00:00 2024-05-24 12:16:58.058000+00:00   \n",
       "\n",
       "   metrics.mean_test_accuracy  metrics.mean_test_roc_auc  \\\n",
       "0                    0.968307                   0.849688   \n",
       "\n",
       "   metrics.std_test_recall  metrics.mean_test_f1  ...  \\\n",
       "0                  0.00373              0.983876  ...   \n",
       "\n",
       "   metrics.std_test_balanced_accuracy  metrics.std_test_f1  \\\n",
       "0                             0.01606             0.001518   \n",
       "\n",
       "   metrics.mean_test_recall  metrics.std_test_accuracy  \\\n",
       "0                  0.995582                   0.002908   \n",
       "\n",
       "   metrics.std_test_roc_auc  \\\n",
       "0                  0.041247   \n",
       "\n",
       "                             tags.mlflow.source.name  tags.mlflow.source.type  \\\n",
       "0  /home/gianmaria/repos/airbnb-bc/src/train_mode...                    LOCAL   \n",
       "\n",
       "   tags.mlflow.runName tags.mlflow.user  \\\n",
       "0  2024-05-24T14.16.53        gianmaria   \n",
       "\n",
       "              tags.mlflow.source.git.commit  \n",
       "0  fc1138078a17591d349fc8ada54cf4401a16a8f3  \n",
       "\n",
       "[1 rows x 23 columns]"
      ]
     },
     "execution_count": 32,
     "metadata": {},
     "output_type": "execute_result"
    }
   ],
   "source": [
    "get_best_model('test1').head()"
   ]
  },
  {
   "cell_type": "code",
   "execution_count": null,
   "metadata": {},
   "outputs": [],
   "source": []
  }
 ],
 "metadata": {
  "kernelspec": {
   "display_name": "bcenv",
   "language": "python",
   "name": "python3"
  },
  "language_info": {
   "codemirror_mode": {
    "name": "ipython",
    "version": 3
   },
   "file_extension": ".py",
   "mimetype": "text/x-python",
   "name": "python",
   "nbconvert_exporter": "python",
   "pygments_lexer": "ipython3",
   "version": "3.10.12"
  }
 },
 "nbformat": 4,
 "nbformat_minor": 2
}

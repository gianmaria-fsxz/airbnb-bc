{
 "cells": [
  {
   "cell_type": "code",
   "execution_count": 5,
   "metadata": {},
   "outputs": [],
   "source": [
    "from typing import Optional\n",
    "import re\n",
    "import pandas as pd"
   ]
  },
  {
   "cell_type": "code",
   "execution_count": 6,
   "metadata": {},
   "outputs": [],
   "source": [
    "def read_and_rename(path: str) -> Optional[pd.DataFrame]:\n",
    "    try:\n",
    "        df = pd.read_csv(path)\n",
    "    except(FileNotFoundError):\n",
    "        print(\"File does not exists!\")\n",
    "        return None\n",
    "    \n",
    "    #basic columns renaming\n",
    "    rename_mapper = {k:re.sub(\"[^A-Z|_]\", \"\", k.lower().replace(\" \", \"_\") ,0,re.IGNORECASE) for k in df.columns}\n",
    "    return df.rename(columns=rename_mapper)\n",
    "    \n",
    "    "
   ]
  },
  {
   "cell_type": "code",
   "execution_count": 7,
   "metadata": {},
   "outputs": [],
   "source": [
    "df_brighton = read_and_rename(\"BrightonPerformanceData.csv\")\n",
    "# df_joshua = pd.read_csv(\"JoshuaPerformanceData.csv\")\n",
    "# df_malibu = pd.read_csv(\"MalibuPerformanceData.csv\")"
   ]
  },
  {
   "cell_type": "code",
   "execution_count": 8,
   "metadata": {},
   "outputs": [
    {
     "name": "stderr",
     "output_type": "stream",
     "text": [
      "Summarize dataset:  84%|████████▍ | 27/32 [00:01<00:00, 39.14it/s, Calculate auto correlation]             /home/gianmaria/Desktop/test_weroad/weroad-env/lib/python3.10/site-packages/ydata_profiling/model/correlations.py:66: UserWarning: There was an attempt to calculate the auto correlation, but this failed.\n",
      "To hide this warning, disable the calculation\n",
      "(using `df.profile_report(correlations={\"auto\": {\"calculate\": False}})`\n",
      "If this is problematic for your use case, please report this as an issue:\n",
      "https://github.com/ydataai/ydata-profiling/issues\n",
      "(include the error message: 'could not convert string to float: 'Studio'')\n",
      "  warnings.warn(\n",
      "Summarize dataset: 100%|██████████| 260/260 [00:49<00:00,  5.23it/s, Completed]                                           \n",
      "Generate report structure: 100%|██████████| 1/1 [00:12<00:00, 12.28s/it]\n",
      "Render HTML: 100%|██████████| 1/1 [00:06<00:00,  6.11s/it]\n",
      "Export report to file: 100%|██████████| 1/1 [00:00<00:00, 35.49it/s]\n"
     ]
    }
   ],
   "source": [
    "# from pydantic_settings import BaseSettings\n",
    "from ydata_profiling import ProfileReport\n",
    "\n",
    "#EDA using pandas-profiling\n",
    "profile = ProfileReport(df_brighton, explorative=True)\n",
    "\n",
    "#Saving results to a HTML file\n",
    "profile.to_file(\"output_brighton.html\") "
   ]
  }
 ],
 "metadata": {
  "kernelspec": {
   "display_name": "weroad-env",
   "language": "python",
   "name": "python3"
  },
  "language_info": {
   "codemirror_mode": {
    "name": "ipython",
    "version": 3
   },
   "file_extension": ".py",
   "mimetype": "text/x-python",
   "name": "python",
   "nbconvert_exporter": "python",
   "pygments_lexer": "ipython3",
   "version": "3.10.12"
  }
 },
 "nbformat": 4,
 "nbformat_minor": 2
}
